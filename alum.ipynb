{
 "metadata": {
  "language_info": {
   "codemirror_mode": {
    "name": "ipython",
    "version": 3
   },
   "file_extension": ".py",
   "mimetype": "text/x-python",
   "name": "python",
   "nbconvert_exporter": "python",
   "pygments_lexer": "ipython3",
   "version": "3.8.2-final"
  },
  "orig_nbformat": 2,
  "kernelspec": {
   "name": "python38264bit521932285c304d7daae45c9cf51b5b4c",
   "display_name": "Python 3.8.2 64-bit",
   "language": "python"
  }
 },
 "nbformat": 4,
 "nbformat_minor": 2,
 "cells": [
  {
   "cell_type": "code",
   "execution_count": 6,
   "metadata": {},
   "outputs": [],
   "source": [
    "import re\n",
    "import requests\n",
    "from bs4 import BeautifulSoup"
   ]
  },
  {
   "cell_type": "code",
   "execution_count": 2,
   "metadata": {},
   "outputs": [],
   "source": [
    "URL = \"https://ballotpedia.org/Roy_Cooper\"\n",
    "page = requests.get(URL)"
   ]
  },
  {
   "cell_type": "code",
   "execution_count": 25,
   "metadata": {},
   "outputs": [],
   "source": [
    "soup = BeautifulSoup(page.content, \"html.parser\")\n",
    "widgets = soup.find_all(\"div\", {\"class\": \"widget-row\"})"
   ]
  },
  {
   "cell_type": "code",
   "execution_count": 41,
   "metadata": {},
   "outputs": [
    {
     "output_type": "stream",
     "name": "stdout",
     "text": [
      "{\"Bachelor's\": 'University of North Carolina, Chapel Hill, 1979', 'Law': 'University of North Carolina School of Law, 1982'}\n"
     ]
    }
   ],
   "source": [
    "edu = {}\n",
    "edu_found = False\n",
    "for elem in widgets:\n",
    "    if edu_found:\n",
    "        if \"value-only\" in elem[\"class\"]:\n",
    "            break\n",
    "        else:\n",
    "            degree = elem.find(\"div\", {\"class\": \"widget-key\"}).get_text().strip()\n",
    "            school = elem.find(\"div\", {\"class\": \"widget-value\"}).get_text().strip()\n",
    "            edu[degree] = school\n",
    "    elif elem.find(\"p\", text=re.compile(\"\\s*Education\\s*\")):\n",
    "        edu_found = True\n",
    "\n",
    "print(edu)"
   ]
  },
  {
   "cell_type": "code",
   "execution_count": null,
   "metadata": {},
   "outputs": [],
   "source": []
  }
 ]
}
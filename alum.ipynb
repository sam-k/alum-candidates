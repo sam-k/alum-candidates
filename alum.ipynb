{
 "metadata": {
  "language_info": {
   "codemirror_mode": {
    "name": "ipython",
    "version": 3
   },
   "file_extension": ".py",
   "mimetype": "text/x-python",
   "name": "python",
   "nbconvert_exporter": "python",
   "pygments_lexer": "ipython3",
   "version": "3.8.2-final"
  },
  "orig_nbformat": 2,
  "kernelspec": {
   "name": "python38264bit521932285c304d7daae45c9cf51b5b4c",
   "display_name": "Python 3.8.2 64-bit",
   "language": "python"
  }
 },
 "nbformat": 4,
 "nbformat_minor": 2,
 "cells": [
  {
   "cell_type": "code",
   "execution_count": 1,
   "metadata": {},
   "outputs": [],
   "source": [
    "import re\n",
    "import requests\n",
    "from bs4 import BeautifulSoup\n",
    "from collections import defaultdict"
   ]
  },
  {
   "cell_type": "code",
   "execution_count": 2,
   "metadata": {},
   "outputs": [],
   "source": [
    "URL_PREFIX = \"https://ballotpedia.org/\"\n",
    "URL_REGEX = r\"^(?:https?:\\/\\/)?(?:ballotpedia.org)?\\/\""
   ]
  },
  {
   "cell_type": "code",
   "execution_count": 3,
   "metadata": {},
   "outputs": [],
   "source": [
    "STATE_URL = URL_PREFIX + \"North_Carolina_elections,_2020\"\n",
    "state_page = requests.get(STATE_URL)"
   ]
  },
  {
   "cell_type": "code",
   "execution_count": 4,
   "metadata": {},
   "outputs": [],
   "source": [
    "state_soup = BeautifulSoup(state_page.content, \"html.parser\")\n",
    "offices = state_soup.find(\"table\", {\"id\": \"offices\"})"
   ]
  },
  {
   "cell_type": "code",
   "execution_count": 11,
   "metadata": {},
   "outputs": [
    {
     "output_type": "stream",
     "name": "stdout",
     "text": [
      "defaultdict(<class 'set'>, {'votebox': {'North_Carolina_state_executive_official_elections,_2020', 'United_States_House_of_Representatives_elections_in_North_Carolina,_2020', 'United_States_Senate_election_in_North_Carolina,_2020', 'Presidential_election_in_North_Carolina,_2020'}, 'table': {'North_Carolina_House_of_Representatives_elections,_2020', 'North_Carolina_State_Senate_elections,_2020'}})\n"
     ]
    }
   ],
   "source": [
    "race_urls = defaultdict(set)\n",
    "RACE_NAMES = {\n",
    "    \"votebox\": {\"President of the United States\", \"U.S. Senate\", \"U.S. House\", \"Other state executive\"},\n",
    "    \"table\": {\"State Senate\", \"State House\"}\n",
    "}\n",
    "for a in offices.find_all(\"a\"):\n",
    "    url = re.sub(URL_REGEX, \"\", a[\"href\"])\n",
    "    name = a.get_text().strip()\n",
    "    if name in RACE_NAMES[\"votebox\"]:\n",
    "        race_urls[\"votebox\"].add(url)\n",
    "    elif name in RACE_NAMES[\"table\"]:\n",
    "        race_urls[\"table\"].add(url)\n",
    "\n",
    "print(race_urls)"
   ]
  },
  {
   "cell_type": "code",
   "execution_count": 11,
   "metadata": {},
   "outputs": [],
   "source": [
    "RACE_URL = URL_PREFIX + \"North_Carolina_gubernatorial_election,_2020\"\n",
    "race_page = requests.get(RACE_URL)"
   ]
  },
  {
   "cell_type": "code",
   "execution_count": 16,
   "metadata": {},
   "outputs": [],
   "source": [
    "race_soup = BeautifulSoup(race_page.content, \"html.parser\")\n",
    "voteboxes = race_soup.find_all(\"div\", {\"class\": \"votebox\"})"
   ]
  },
  {
   "cell_type": "code",
   "execution_count": 22,
   "metadata": {},
   "outputs": [
    {
     "output_type": "stream",
     "name": "stdout",
     "text": [
      "defaultdict(<function <lambda> at 0x7fdf572bdaf0>, {'https://ballotpedia.org/Roy_Cooper': {'races': ['General election for Governor of North Carolina', 'Democratic primary for Governor of North Carolina'], 'name': 'Roy Cooper'}, 'https://ballotpedia.org/Dan_Forest': {'races': ['General election for Governor of North Carolina', 'Republican primary for Governor of North Carolina'], 'name': 'Dan Forest'}, 'https://ballotpedia.org/Steven_DiFiore_II': {'races': ['General election for Governor of North Carolina'], 'name': 'Steven DiFiore  II'}, 'https://ballotpedia.org/Al_Pisano': {'races': ['General election for Governor of North Carolina'], 'name': 'Al Pisano'}, 'https://ballotpedia.org/Ernest_Reeves': {'races': ['Democratic primary for Governor of North Carolina'], 'name': 'Ernest Reeves'}, 'https://ballotpedia.org/Holly_Grange': {'races': ['Republican primary for Governor of North Carolina'], 'name': 'Holly Grange'}})\n"
     ]
    }
   ],
   "source": [
    "cands = defaultdict(lambda: {\"races\": []})\n",
    "for div in voteboxes:\n",
    "    race = div.find(\"h5\", {\"class\": \"votebox-header-election-type\"}).get_text().strip()\n",
    "    for td in div.find_all(\"td\", {\"class\": \"votebox-results-cell--text\"}):\n",
    "        a = td.find(\"a\")\n",
    "        url = re.sub(URL_REGEX, \"\", a[\"href\"])\n",
    "        name = a.get_text().strip()\n",
    "        cands[url][\"name\"] = name\n",
    "        cands[url][\"races\"].append(race)\n",
    "\n",
    "print(cands)"
   ]
  },
  {
   "cell_type": "code",
   "execution_count": 14,
   "metadata": {},
   "outputs": [],
   "source": [
    "CAND_URL = URL_PREFIX + \"Roy_Cooper\"\n",
    "cand_page = requests.get(CAND_URL)"
   ]
  },
  {
   "cell_type": "code",
   "execution_count": 15,
   "metadata": {},
   "outputs": [],
   "source": [
    "cand_soup = BeautifulSoup(cand_page.content, \"html.parser\")\n",
    "widgets = cand_soup.find_all(\"div\", {\"class\": \"widget-row\"})"
   ]
  },
  {
   "cell_type": "code",
   "execution_count": 16,
   "metadata": {},
   "outputs": [
    {
     "output_type": "stream",
     "name": "stdout",
     "text": [
      "{'name': 'Roy Cooper', 'races': [], 'edu': {\"Bachelor's\": 'University of North Carolina, Chapel Hill, 1979', 'Law': 'University of North Carolina School of Law, 1982'}, 'party': 'Democratic'}\n"
     ]
    }
   ],
   "source": [
    "info = {\"name\": \"Roy Cooper\", \"races\": [], \"edu\": {}}\n",
    "party_found = False\n",
    "edu_found = False\n",
    "EDU_REGEX = re.compile(r\"\\s*Education\\s*\")\n",
    "for div in widgets:\n",
    "    if not party_found:\n",
    "        info[\"party\"] = div[\"class\"][2]  # party is always 3rd class of 1st row\n",
    "        party_found = True\n",
    "\n",
    "    if edu_found:\n",
    "        if \"value-only\" in div[\"class\"]:\n",
    "            break  # edu section is over\n",
    "        else:\n",
    "            degree = div.find(\"div\", {\"class\": \"widget-key\"}).get_text().strip()\n",
    "            school = div.find(\"div\", {\"class\": \"widget-value\"}).get_text().strip()\n",
    "            info[\"edu\"][degree] = school\n",
    "    elif div.find(\"p\", string=EDU_REGEX):\n",
    "        edu_found = True\n",
    "\n",
    "print(info)"
   ]
  },
  {
   "cell_type": "code",
   "execution_count": null,
   "metadata": {},
   "outputs": [],
   "source": []
  }
 ]
}
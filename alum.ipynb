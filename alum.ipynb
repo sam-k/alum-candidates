{
 "metadata": {
  "language_info": {
   "codemirror_mode": {
    "name": "ipython",
    "version": 3
   },
   "file_extension": ".py",
   "mimetype": "text/x-python",
   "name": "python",
   "nbconvert_exporter": "python",
   "pygments_lexer": "ipython3",
   "version": "3.8.2-final"
  },
  "orig_nbformat": 2,
  "kernelspec": {
   "name": "python38264bit521932285c304d7daae45c9cf51b5b4c",
   "display_name": "Python 3.8.2 64-bit",
   "language": "python"
  }
 },
 "nbformat": 4,
 "nbformat_minor": 2,
 "cells": [
  {
   "cell_type": "code",
   "execution_count": 17,
   "metadata": {},
   "outputs": [],
   "source": [
    "import re\n",
    "import requests\n",
    "from bs4 import BeautifulSoup\n",
    "from collections import defaultdict"
   ]
  },
  {
   "cell_type": "code",
   "execution_count": 11,
   "metadata": {},
   "outputs": [],
   "source": [
    "RACE_URL = \"https://ballotpedia.org/North_Carolina_gubernatorial_election,_2020\"\n",
    "race_page = requests.get(RACE_URL)"
   ]
  },
  {
   "cell_type": "code",
   "execution_count": 16,
   "metadata": {},
   "outputs": [],
   "source": [
    "race_soup = BeautifulSoup(race_page.content, \"html.parser\")\n",
    "voteboxes = race_soup.find_all(\"div\", {\"class\": \"votebox\"})"
   ]
  },
  {
   "cell_type": "code",
   "execution_count": 22,
   "metadata": {},
   "outputs": [
    {
     "output_type": "stream",
     "name": "stdout",
     "text": [
      "defaultdict(<function <lambda> at 0x7fdf572bdaf0>, {'https://ballotpedia.org/Roy_Cooper': {'races': ['General election for Governor of North Carolina', 'Democratic primary for Governor of North Carolina'], 'name': 'Roy Cooper'}, 'https://ballotpedia.org/Dan_Forest': {'races': ['General election for Governor of North Carolina', 'Republican primary for Governor of North Carolina'], 'name': 'Dan Forest'}, 'https://ballotpedia.org/Steven_DiFiore_II': {'races': ['General election for Governor of North Carolina'], 'name': 'Steven DiFiore  II'}, 'https://ballotpedia.org/Al_Pisano': {'races': ['General election for Governor of North Carolina'], 'name': 'Al Pisano'}, 'https://ballotpedia.org/Ernest_Reeves': {'races': ['Democratic primary for Governor of North Carolina'], 'name': 'Ernest Reeves'}, 'https://ballotpedia.org/Holly_Grange': {'races': ['Republican primary for Governor of North Carolina'], 'name': 'Holly Grange'}})\n"
     ]
    }
   ],
   "source": [
    "cands = defaultdict(lambda: {\"races\": []})\n",
    "for elem in voteboxes:\n",
    "    race = elem.find(\"h5\", {\"class\": \"votebox-header-election-type\"}).get_text().strip()\n",
    "    for td in elem.find_all(\"td\", {\"class\": \"votebox-results-cell--text\"}):\n",
    "        a = td.find(\"a\")\n",
    "        name = a.get_text().strip()\n",
    "        url = a[\"href\"]  # URL as unique key\n",
    "        cands[url][\"name\"] = name\n",
    "        cands[url][\"races\"].append(race)\n",
    "\n",
    "print(cands)"
   ]
  },
  {
   "cell_type": "code",
   "execution_count": 5,
   "metadata": {},
   "outputs": [],
   "source": [
    "CAND_URL = \"https://ballotpedia.org/Roy_Cooper\"\n",
    "cand_page = requests.get(CAND_URL)"
   ]
  },
  {
   "cell_type": "code",
   "execution_count": 6,
   "metadata": {},
   "outputs": [],
   "source": [
    "cand_soup = BeautifulSoup(cand_page.content, \"html.parser\")\n",
    "widgets = cand_soup.find_all(\"div\", {\"class\": \"widget-row\"})"
   ]
  },
  {
   "cell_type": "code",
   "execution_count": 10,
   "metadata": {},
   "outputs": [
    {
     "output_type": "stream",
     "name": "stdout",
     "text": [
      "{\"Bachelor's\": 'University of North Carolina, Chapel Hill, 1979', 'Law': 'University of North Carolina School of Law, 1982'}\n"
     ]
    }
   ],
   "source": [
    "edu = {}\n",
    "edu_found = False\n",
    "for elem in widgets:\n",
    "    if edu_found:\n",
    "        if \"value-only\" in elem[\"class\"]:\n",
    "            break\n",
    "        else:\n",
    "            degree = elem.find(\"div\", {\"class\": \"widget-key\"}).get_text().strip()\n",
    "            school = elem.find(\"div\", {\"class\": \"widget-value\"}).get_text().strip()\n",
    "            edu[degree] = school\n",
    "    elif elem.find(\"p\", text=re.compile(\"\\s*Education\\s*\")):\n",
    "        edu_found = True\n",
    "\n",
    "print(edu)"
   ]
  },
  {
   "cell_type": "code",
   "execution_count": null,
   "metadata": {},
   "outputs": [],
   "source": []
  }
 ]
}